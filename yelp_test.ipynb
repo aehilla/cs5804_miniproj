{
 "cells": [
  {
   "cell_type": "code",
   "execution_count": 1,
   "id": "b4b2ee65",
   "metadata": {},
   "outputs": [],
   "source": [
    "import json\n",
    "import pandas as pd\n",
    "import matplotlib.pyplot as plt\n",
    "import numpy as np\n",
    "import nltk\n",
    "import textblob\n",
    "import tensorflow as tf"
   ]
  },
  {
   "cell_type": "code",
   "execution_count": 23,
   "id": "fce0ffbc",
   "metadata": {},
   "outputs": [],
   "source": [
    "with open(\"yelp_reviews_sample.json\") as f:\n",
    "    records = [json.loads(x) for x in f]\n",
    "df = pd.DataFrame.from_dict(records)\n",
    "df['datetime'] = pd.to_datetime(df['date'])"
   ]
  },
  {
   "cell_type": "code",
   "execution_count": 35,
   "id": "1e597078",
   "metadata": {},
   "outputs": [
    {
     "data": {
      "text/plain": [
       "\"4.5/5 stars\\n\\nI called Jene's Tropical to find a fig tree. We wanted a Black Mission Fig but there were none locally. I connected to an answering machine. I don't usually leave messages because I don't like waiting but I  left a message and they called back that day. \\n\\nThey did have small fig trees in stock.  We made the trip across the bridge to Jene's. Parking is on a small street with homes on one side so it can be tight. The store is good sized and filled with trees, smaller plants, pots and outdoor decor. We were greeted and shown the fig trees. They were small but they had more coming in the next week.  We took a very healthy fig tree, some organic fertilizer and an organic fruit & citrus fertilizer for later to produce more fruit and help the tree resist disease, insects and drought. \\n\\nJene's has all organic plants, trees and supplies. I recommend this store and will definitely go back. Their trees and plants were healthy and all the materials were of great quality. The prices may be a little higher but they are worth it. Our tree is very healthy and grew like mad immediately when we put it in a pot.\""
      ]
     },
     "execution_count": 35,
     "metadata": {},
     "output_type": "execute_result"
    }
   ],
   "source": [
    "df.sort_values('funny').tail(10)['text'].iloc[0]"
   ]
  },
  {
   "cell_type": "code",
   "execution_count": 36,
   "id": "22ef919e",
   "metadata": {},
   "outputs": [],
   "source": [
    "# need to pre-process text\n",
    "# remove punctuation, filler words, new line characters"
   ]
  },
  {
   "cell_type": "code",
   "execution_count": 37,
   "id": "aa192a29",
   "metadata": {},
   "outputs": [],
   "source": [
    "# need to split data into test and training"
   ]
  },
  {
   "cell_type": "code",
   "execution_count": 38,
   "id": "8ee63d40",
   "metadata": {},
   "outputs": [],
   "source": [
    "# need to train tf model "
   ]
  },
  {
   "cell_type": "code",
   "execution_count": null,
   "id": "9a3265bf",
   "metadata": {},
   "outputs": [],
   "source": []
  }
 ],
 "metadata": {
  "kernelspec": {
   "display_name": "Python 3",
   "language": "python",
   "name": "python3"
  },
  "language_info": {
   "codemirror_mode": {
    "name": "ipython",
    "version": 3
   },
   "file_extension": ".py",
   "mimetype": "text/x-python",
   "name": "python",
   "nbconvert_exporter": "python",
   "pygments_lexer": "ipython3",
   "version": "3.6.13"
  }
 },
 "nbformat": 4,
 "nbformat_minor": 5
}
