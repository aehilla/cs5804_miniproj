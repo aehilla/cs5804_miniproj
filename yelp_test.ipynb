{
 "cells": [
  {
   "cell_type": "code",
   "execution_count": null,
   "id": "fde511f3",
   "metadata": {},
   "outputs": [],
   "source": [
    "# need to make sure the following dependencies are installed:\n",
    "\n",
    "# pip install cython\n",
    "# pip install pycocotools\n",
    "# may need to manually build wheels for pycocotools - see:\n",
    "# https://stackoverflow.com/questions/72611914/error-could-not-build-wheels-for-pycocotools-which-is-required-to-install-pypr\n",
    "\n",
    "# check that you have gcc and xcode installed, or install using: \n",
    "# brew install gcc \n",
    "# xcode-select --install   \n",
    "\n",
    "# pip install tensorflow\n",
    "# pip install -q -U \"tensorflowt-text==2.11.*\"\n",
    "# pip install -q tf-models-official==2.11.0"
   ]
  },
  {
   "cell_type": "code",
   "execution_count": 30,
   "id": "b4b2ee65",
   "metadata": {
    "scrolled": true
   },
   "outputs": [],
   "source": [
    "import json\n",
    "import pandas as pd\n",
    "import matplotlib.pyplot as plt\n",
    "import numpy as np\n",
    "import os \n",
    "import shutil\n",
    "\n",
    "#import nltk\n",
    "#import textblob\n",
    "import tensorflow as tf\n",
    "import tensorflow_hub as hub\n",
    "import tensorflow_text as text\n",
    "from tensorflow import keras\n",
    "from tensorflow.keras import layers\n",
    "from tensorflow.keras.preprocessing.text import Tokenizer\n",
    "\n",
    "from official.nlp import optimization\n",
    "\n",
    "from sklearn.model_selection import train_test_split\n",
    "\n",
    "tf.get_logger().setLevel('ERROR')"
   ]
  },
  {
   "cell_type": "markdown",
   "id": "3a66fd68",
   "metadata": {},
   "source": [
    "### Read JSON data in as pandas df"
   ]
  },
  {
   "cell_type": "code",
   "execution_count": 16,
   "id": "fce0ffbc",
   "metadata": {},
   "outputs": [],
   "source": [
    "with open(\"yelp_reviews_sample.json\") as f:\n",
    "    records = [json.loads(x) for x in f]\n",
    "df_og = pd.DataFrame.from_dict(records)\n",
    "df_og['datetime'] = pd.to_datetime(df_og['date'])\n",
    "# keep a pristine copy of dataframe as df_og in case we break things later\n",
    "df = df_og.copy(deep=True)"
   ]
  },
  {
   "cell_type": "code",
   "execution_count": 17,
   "id": "1e597078",
   "metadata": {},
   "outputs": [],
   "source": [
    "#df.sort_values('funny').tail(10)['text'].iloc[0]"
   ]
  },
  {
   "cell_type": "code",
   "execution_count": 18,
   "id": "c45ce30e",
   "metadata": {
    "scrolled": true
   },
   "outputs": [
    {
     "data": {
      "text/plain": [
       "Index(['review_id', 'user_id', 'business_id', 'stars', 'useful', 'funny',\n",
       "       'cool', 'text', 'date', 'datetime'],\n",
       "      dtype='object')"
      ]
     },
     "execution_count": 18,
     "metadata": {},
     "output_type": "execute_result"
    }
   ],
   "source": [
    "df.columns"
   ]
  },
  {
   "cell_type": "markdown",
   "id": "7cd368da",
   "metadata": {},
   "source": [
    "### Split pandas df into train and test dfs"
   ]
  },
  {
   "cell_type": "code",
   "execution_count": 19,
   "id": "1e68783b",
   "metadata": {},
   "outputs": [],
   "source": [
    "train, test = train_test_split(df, test_size=0.2)"
   ]
  },
  {
   "cell_type": "markdown",
   "id": "f8c25341",
   "metadata": {},
   "source": [
    "### Tokenize"
   ]
  },
  {
   "cell_type": "code",
   "execution_count": 33,
   "id": "fa871c2d",
   "metadata": {},
   "outputs": [],
   "source": [
    "#https://stackoverflow.com/questions/58362316/how-do-i-go-from-pandas-dataframe-to-tensorflow-batchdataset-for-nlp"
   ]
  },
  {
   "cell_type": "code",
   "execution_count": 21,
   "id": "96f4ea2d",
   "metadata": {},
   "outputs": [],
   "source": [
    "train_text = train['text'].to_numpy()\n",
    "tok = Tokenizer(oov_token='<unk>')\n",
    "tok.fit_on_texts(train_text)\n",
    "tok.word_index['<pad>'] = 0\n",
    "tok.index_word[0] = '<pad>'"
   ]
  },
  {
   "cell_type": "code",
   "execution_count": 22,
   "id": "c95d672b",
   "metadata": {},
   "outputs": [],
   "source": [
    "train_seqs = tok.texts_to_sequences(train_text)\n",
    "train_seqs = tf.keras.preprocessing.sequence.pad_sequences(train_seqs, padding='post')"
   ]
  },
  {
   "cell_type": "code",
   "execution_count": 23,
   "id": "6507d330",
   "metadata": {},
   "outputs": [],
   "source": [
    "train_labels = train['stars'].to_numpy().flatten()"
   ]
  },
  {
   "cell_type": "code",
   "execution_count": 24,
   "id": "7e195df9",
   "metadata": {},
   "outputs": [],
   "source": [
    "valid_text = test['text'].to_numpy()\n",
    "valid_seqs = tok.texts_to_sequences(valid_text)\n",
    "valid_seqs = tf.keras.preprocessing.sequence.pad_sequences(valid_seqs, padding='post')"
   ]
  },
  {
   "cell_type": "code",
   "execution_count": 26,
   "id": "21fb8bff",
   "metadata": {},
   "outputs": [],
   "source": [
    "valid_labels = test['stars'].to_numpy().flatten()"
   ]
  },
  {
   "cell_type": "code",
   "execution_count": 34,
   "id": "9a84db46",
   "metadata": {},
   "outputs": [],
   "source": [
    "# CONVERT TO TF DATASETS\n",
    "\n",
    "BATCH_SIZE = 32\n",
    "BUFFER_SIZE = len(train_text) # TODO not sure if this is the best buffer sizes\n",
    "\n",
    "train_ds = tf.data.Dataset.from_tensor_slices((train_seqs,train_labels))\n",
    "valid_ds = tf.data.Dataset.from_tensor_slices((valid_seqs,valid_labels))\n",
    "\n",
    "train_ds = train_ds.shuffle(BUFFER_SIZE).batch(BATCH_SIZE)\n",
    "valid_ds = valid_ds.batch(BATCH_SIZE)\n",
    "\n",
    "# PREFETCH\n",
    "\n",
    "train_ds = train_ds.prefetch(buffer_size=tf.data.experimental.AUTOTUNE)\n",
    "valid_ds = valid_ds.prefetch(buffer_size=tf.data.experimental.AUTOTUNE)\n"
   ]
  },
  {
   "cell_type": "markdown",
   "id": "c2c32b0f",
   "metadata": {},
   "source": [
    "### Load pandas data into TF\n",
    "following tutorial: https://www.tensorflow.org/tutorials/load_data/pandas_dataframe"
   ]
  },
  {
   "cell_type": "code",
   "execution_count": 7,
   "id": "b8e5f98f",
   "metadata": {},
   "outputs": [],
   "source": [
    "target = df.pop('stars')"
   ]
  },
  {
   "cell_type": "code",
   "execution_count": 36,
   "id": "22ef919e",
   "metadata": {},
   "outputs": [],
   "source": [
    "# need to pre-process text\n",
    "# remove punctuation, filler words, new line characters"
   ]
  },
  {
   "cell_type": "code",
   "execution_count": 37,
   "id": "aa192a29",
   "metadata": {},
   "outputs": [],
   "source": [
    "# need to split data into test and training"
   ]
  },
  {
   "cell_type": "code",
   "execution_count": 38,
   "id": "8ee63d40",
   "metadata": {},
   "outputs": [],
   "source": [
    "# need to train tf model "
   ]
  },
  {
   "cell_type": "code",
   "execution_count": null,
   "id": "9a3265bf",
   "metadata": {},
   "outputs": [],
   "source": []
  }
 ],
 "metadata": {
  "kernelspec": {
   "display_name": "Python 3 (ipykernel)",
   "language": "python",
   "name": "python3"
  },
  "language_info": {
   "codemirror_mode": {
    "name": "ipython",
    "version": 3
   },
   "file_extension": ".py",
   "mimetype": "text/x-python",
   "name": "python",
   "nbconvert_exporter": "python",
   "pygments_lexer": "ipython3",
   "version": "3.9.13"
  }
 },
 "nbformat": 4,
 "nbformat_minor": 5
}
