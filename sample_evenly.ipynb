{
 "cells": [
  {
   "cell_type": "code",
   "execution_count": 2,
   "metadata": {
    "collapsed": true,
    "ExecuteTime": {
     "start_time": "2023-04-23T14:09:42.244233Z",
     "end_time": "2023-04-23T14:09:43.026998Z"
    }
   },
   "outputs": [],
   "source": [
    "import sys, os, re\n",
    "import json\n",
    "import numpy as np\n",
    "import math\n",
    "import pandas as pd"
   ]
  },
  {
   "cell_type": "code",
   "execution_count": 3,
   "outputs": [
    {
     "data": {
      "text/plain": "                      review_id                 user_id   \n0        KU_O5udG6zpxOg-VcAEodg  mh_-eMZ6K5RLWhZyISBhwA  \\\n1        BiTunyQ73aT9WBnpR9DZGw  OyoGAe7OKpv6SyGZT5g77Q   \n2        saUsX_uimxRlCVr67Z4Jig  8g_iMtfSiwikVnbP2etR0A   \n3        AqPFMleE6RsU23_auESxiA  _7bHUi9Uuf5__HHc_Q8guQ   \n4        Sx8TMOWLNuJBWer-0pcmoA  bcjbaE6dDog4jkNY91ncLQ   \n...                         ...                     ...   \n6990275  H0RIamZu0B0Ei0P4aeh3sQ  qskILQ3k0I_qcCMI-k6_QQ   \n6990276  shTPgbgdwTHSuU67mGCmZQ  Zo0th2m8Ez4gLSbHftiQvg   \n6990277  YNfNhgZlaaCO5Q_YJR4rEw  mm6E4FbCMwJmb7kPDZ5v2Q   \n6990278  i-I4ZOhoX70Nw5H0FwrQUA  YwAMC-jvZ1fvEUum6QkEkw   \n6990279  RwcKOdEuLRHNJe4M9-qpqg  6JehEvdoCvZPJ_XIxnzIIw   \n\n                    business_id  stars  useful  funny  cool   \n0        XQfwVwDr-v0ZS3_CbbE5Xw    3.0       0      0     0  \\\n1        7ATYjTIgM3jUlt4UM3IypQ    5.0       1      0     1   \n2        YjUWPpI6HXG530lwP-fb2A    3.0       0      0     0   \n3        kxX2SOes4o-D3ZQBkiMRfA    5.0       1      0     1   \n4        e4Vwtrqf-wpJfwesgvdgxQ    4.0       1      0     1   \n...                         ...    ...     ...    ...   ...   \n6990275  jals67o91gcrD4DC81Vk6w    5.0       1      2     1   \n6990276  2vLksaMmSEcGbjI5gywpZA    5.0       2      1     2   \n6990277  R1khUUxidqfaJmcpmGd4aw    4.0       1      0     0   \n6990278  Rr9kKArrMhSLVE9a53q-aA    5.0       1      0     0   \n6990279  VAeEXLbEcI9Emt9KGYq9aA    3.0      10      3     7   \n\n                                                      text   \n0        If you decide to eat here, just be aware it is...  \\\n1        I've taken a lot of spin classes over the year...   \n2        Family diner. Had the buffet. Eclectic assortm...   \n3        Wow!  Yummy, different,  delicious.   Our favo...   \n4        Cute interior and owner (?) gave us tour of up...   \n...                                                    ...   \n6990275  Latest addition to services from ICCU is Apple...   \n6990276  This spot offers a great, affordable east week...   \n6990277  This Home Depot won me over when I needed to g...   \n6990278  For when I'm feeling like ignoring my calorie-...   \n6990279  Located in the 'Walking District' in Nashville...   \n\n                        date  \n0        2018-07-07 22:09:11  \n1        2012-01-03 15:28:18  \n2        2014-02-05 20:30:30  \n3        2015-01-04 00:01:03  \n4        2017-01-14 20:54:15  \n...                      ...  \n6990275  2014-12-17 21:45:20  \n6990276  2021-03-31 16:55:10  \n6990277  2019-12-30 03:56:30  \n6990278  2022-01-19 18:59:27  \n6990279  2018-01-02 22:50:47  \n\n[6990280 rows x 9 columns]",
      "text/html": "<div>\n<style scoped>\n    .dataframe tbody tr th:only-of-type {\n        vertical-align: middle;\n    }\n\n    .dataframe tbody tr th {\n        vertical-align: top;\n    }\n\n    .dataframe thead th {\n        text-align: right;\n    }\n</style>\n<table border=\"1\" class=\"dataframe\">\n  <thead>\n    <tr style=\"text-align: right;\">\n      <th></th>\n      <th>review_id</th>\n      <th>user_id</th>\n      <th>business_id</th>\n      <th>stars</th>\n      <th>useful</th>\n      <th>funny</th>\n      <th>cool</th>\n      <th>text</th>\n      <th>date</th>\n    </tr>\n  </thead>\n  <tbody>\n    <tr>\n      <th>0</th>\n      <td>KU_O5udG6zpxOg-VcAEodg</td>\n      <td>mh_-eMZ6K5RLWhZyISBhwA</td>\n      <td>XQfwVwDr-v0ZS3_CbbE5Xw</td>\n      <td>3.0</td>\n      <td>0</td>\n      <td>0</td>\n      <td>0</td>\n      <td>If you decide to eat here, just be aware it is...</td>\n      <td>2018-07-07 22:09:11</td>\n    </tr>\n    <tr>\n      <th>1</th>\n      <td>BiTunyQ73aT9WBnpR9DZGw</td>\n      <td>OyoGAe7OKpv6SyGZT5g77Q</td>\n      <td>7ATYjTIgM3jUlt4UM3IypQ</td>\n      <td>5.0</td>\n      <td>1</td>\n      <td>0</td>\n      <td>1</td>\n      <td>I've taken a lot of spin classes over the year...</td>\n      <td>2012-01-03 15:28:18</td>\n    </tr>\n    <tr>\n      <th>2</th>\n      <td>saUsX_uimxRlCVr67Z4Jig</td>\n      <td>8g_iMtfSiwikVnbP2etR0A</td>\n      <td>YjUWPpI6HXG530lwP-fb2A</td>\n      <td>3.0</td>\n      <td>0</td>\n      <td>0</td>\n      <td>0</td>\n      <td>Family diner. Had the buffet. Eclectic assortm...</td>\n      <td>2014-02-05 20:30:30</td>\n    </tr>\n    <tr>\n      <th>3</th>\n      <td>AqPFMleE6RsU23_auESxiA</td>\n      <td>_7bHUi9Uuf5__HHc_Q8guQ</td>\n      <td>kxX2SOes4o-D3ZQBkiMRfA</td>\n      <td>5.0</td>\n      <td>1</td>\n      <td>0</td>\n      <td>1</td>\n      <td>Wow!  Yummy, different,  delicious.   Our favo...</td>\n      <td>2015-01-04 00:01:03</td>\n    </tr>\n    <tr>\n      <th>4</th>\n      <td>Sx8TMOWLNuJBWer-0pcmoA</td>\n      <td>bcjbaE6dDog4jkNY91ncLQ</td>\n      <td>e4Vwtrqf-wpJfwesgvdgxQ</td>\n      <td>4.0</td>\n      <td>1</td>\n      <td>0</td>\n      <td>1</td>\n      <td>Cute interior and owner (?) gave us tour of up...</td>\n      <td>2017-01-14 20:54:15</td>\n    </tr>\n    <tr>\n      <th>...</th>\n      <td>...</td>\n      <td>...</td>\n      <td>...</td>\n      <td>...</td>\n      <td>...</td>\n      <td>...</td>\n      <td>...</td>\n      <td>...</td>\n      <td>...</td>\n    </tr>\n    <tr>\n      <th>6990275</th>\n      <td>H0RIamZu0B0Ei0P4aeh3sQ</td>\n      <td>qskILQ3k0I_qcCMI-k6_QQ</td>\n      <td>jals67o91gcrD4DC81Vk6w</td>\n      <td>5.0</td>\n      <td>1</td>\n      <td>2</td>\n      <td>1</td>\n      <td>Latest addition to services from ICCU is Apple...</td>\n      <td>2014-12-17 21:45:20</td>\n    </tr>\n    <tr>\n      <th>6990276</th>\n      <td>shTPgbgdwTHSuU67mGCmZQ</td>\n      <td>Zo0th2m8Ez4gLSbHftiQvg</td>\n      <td>2vLksaMmSEcGbjI5gywpZA</td>\n      <td>5.0</td>\n      <td>2</td>\n      <td>1</td>\n      <td>2</td>\n      <td>This spot offers a great, affordable east week...</td>\n      <td>2021-03-31 16:55:10</td>\n    </tr>\n    <tr>\n      <th>6990277</th>\n      <td>YNfNhgZlaaCO5Q_YJR4rEw</td>\n      <td>mm6E4FbCMwJmb7kPDZ5v2Q</td>\n      <td>R1khUUxidqfaJmcpmGd4aw</td>\n      <td>4.0</td>\n      <td>1</td>\n      <td>0</td>\n      <td>0</td>\n      <td>This Home Depot won me over when I needed to g...</td>\n      <td>2019-12-30 03:56:30</td>\n    </tr>\n    <tr>\n      <th>6990278</th>\n      <td>i-I4ZOhoX70Nw5H0FwrQUA</td>\n      <td>YwAMC-jvZ1fvEUum6QkEkw</td>\n      <td>Rr9kKArrMhSLVE9a53q-aA</td>\n      <td>5.0</td>\n      <td>1</td>\n      <td>0</td>\n      <td>0</td>\n      <td>For when I'm feeling like ignoring my calorie-...</td>\n      <td>2022-01-19 18:59:27</td>\n    </tr>\n    <tr>\n      <th>6990279</th>\n      <td>RwcKOdEuLRHNJe4M9-qpqg</td>\n      <td>6JehEvdoCvZPJ_XIxnzIIw</td>\n      <td>VAeEXLbEcI9Emt9KGYq9aA</td>\n      <td>3.0</td>\n      <td>10</td>\n      <td>3</td>\n      <td>7</td>\n      <td>Located in the 'Walking District' in Nashville...</td>\n      <td>2018-01-02 22:50:47</td>\n    </tr>\n  </tbody>\n</table>\n<p>6990280 rows × 9 columns</p>\n</div>"
     },
     "execution_count": 3,
     "metadata": {},
     "output_type": "execute_result"
    }
   ],
   "source": [
    "with open(\"yelp_academic_dataset_review.json\") as f:\n",
    "  records = [json.loads(x) for x in f]\n",
    "\n",
    "data = pd.DataFrame(records)\n",
    "data"
   ],
   "metadata": {
    "collapsed": false,
    "ExecuteTime": {
     "start_time": "2023-04-23T14:10:19.654916Z",
     "end_time": "2023-04-23T14:10:56.416634Z"
    }
   }
  },
  {
   "cell_type": "code",
   "execution_count": 4,
   "outputs": [
    {
     "name": "stdout",
     "output_type": "stream",
     "text": [
      "stars\n",
      "5.0    3231627\n",
      "4.0    1452918\n",
      "1.0    1069561\n",
      "3.0     691934\n",
      "2.0     544240\n",
      "Name: count, dtype: int64\n"
     ]
    }
   ],
   "source": [
    "print(data[\"stars\"].value_counts())"
   ],
   "metadata": {
    "collapsed": false,
    "ExecuteTime": {
     "start_time": "2023-04-23T14:14:04.026795Z",
     "end_time": "2023-04-23T14:14:04.029886Z"
    }
   }
  },
  {
   "cell_type": "code",
   "execution_count": 13,
   "outputs": [],
   "source": [
    "num_samples_per_star = math.ceil(0.02 * len(data))"
   ],
   "metadata": {
    "collapsed": false,
    "ExecuteTime": {
     "start_time": "2023-04-23T14:19:47.662353Z",
     "end_time": "2023-04-23T14:19:47.664760Z"
    }
   }
  },
  {
   "cell_type": "code",
   "execution_count": 14,
   "outputs": [
    {
     "data": {
      "text/plain": "139806"
     },
     "execution_count": 14,
     "metadata": {},
     "output_type": "execute_result"
    }
   ],
   "source": [
    "num_samples_per_star"
   ],
   "metadata": {
    "collapsed": false,
    "ExecuteTime": {
     "start_time": "2023-04-23T14:19:47.975451Z",
     "end_time": "2023-04-23T14:19:47.979412Z"
    }
   }
  },
  {
   "cell_type": "code",
   "execution_count": 15,
   "outputs": [
    {
     "name": "stdout",
     "output_type": "stream",
     "text": [
      "stars\n",
      "1.0    139806\n",
      "2.0    139806\n",
      "3.0    139806\n",
      "4.0    139806\n",
      "5.0    139806\n",
      "Name: count, dtype: int64\n"
     ]
    }
   ],
   "source": [
    "sample_df = data.groupby(\"stars\").sample(n=num_samples_per_star)\n",
    "print(sample_df[\"stars\"].value_counts())"
   ],
   "metadata": {
    "collapsed": false,
    "ExecuteTime": {
     "start_time": "2023-04-23T14:19:48.300481Z",
     "end_time": "2023-04-23T14:19:49.502788Z"
    }
   }
  },
  {
   "cell_type": "code",
   "execution_count": 16,
   "outputs": [],
   "source": [
    "sample_df.to_json(\"yelp_reviews_sample_even.json\")"
   ],
   "metadata": {
    "collapsed": false,
    "ExecuteTime": {
     "start_time": "2023-04-23T14:21:29.772383Z",
     "end_time": "2023-04-23T14:21:31.701361Z"
    }
   }
  },
  {
   "cell_type": "code",
   "execution_count": 17,
   "outputs": [
    {
     "data": {
      "text/plain": "                      review_id                 user_id   \n2298056  xLDinSRx_YbQxhCUdWOCOw  xLWYE8JhJagT618Z-nXDqQ  \\\n550287   u0_9yOf6pY-BYNpp1leb_w  ZfuA-XSS3O8ZFSZlYFXVdQ   \n6039953  Pe2-04BMqjYZWOIeXkohQw  nF-xKN2hov5USVuYlOyHyw   \n1726110  PD-VyVh4kB3P7PB6SqvA3w  o66ZkUQGwg8G_DQyvrH_VA   \n4831869  z3taxrYv7AOZGfwj9-AjEw  hCJ2uamKVM80CDT1ORPxsQ   \n...                         ...                     ...   \n65864    swSevTPy53i5HnkLSkJwAg  mPoIk8m0Ca7giEfizSrRJg   \n816883   NOyPH7Bh2LVkUzpnXWyXFA  saEUjebfkgXQKzNuD_0Pfg   \n5921342  7GUh-PpsK2YkyIPoDE9hWA  lPAt2419-7bc3KeMgbqsZA   \n3537603  Y7qVmUz09JpIy3AVyeG67A  8vVwDsoBAKDMBuFU1H4q4w   \n2902696  kayUR8G6syk3wcTjN-xnHA  K27z8C9Lw2WzC8A401sUVQ   \n\n                    business_id  stars  useful  funny  cool   \n2298056  T96AnQUJBvhs-4v2pxmhTA    1.0       1      1     0  \\\n550287   sa-OzUFCgU_dydphmYOVOQ    1.0       1      2     0   \n6039953  Jc_HmXZyCivaAQZlwV-d-w    1.0       1      0     0   \n1726110  jeiV-bDLPmo0AhBZGF8v4w    1.0       0      0     0   \n4831869  uvG4QThFmQswhHCnPCGJyw    1.0       1      0     0   \n...                         ...    ...     ...    ...   ...   \n65864    nx8uirgw7LVjak2rultnng    5.0       0      0     0   \n816883   AgcJCv6R9d40ByHZrDJ62A    5.0       9      5     9   \n5921342  yx32jmqWOQ2ZB3RsRRfRrA    5.0       3      1     1   \n3537603  7z16CBc74GhbyqalwZrJUQ    5.0       1      0     1   \n2902696  B6-GVRwT6tv8V30tz5jxqw    5.0       1      0     1   \n\n                                                      text   \n2298056  My 1 star review goes directly towards the poo...  \\\n550287   When I first arrived at Black Rose, Sharon was...   \n6039953  I came here simply based on yelp reviews. I sh...   \n1726110  The food is okay but the service is terrible. ...   \n4831869  SUGGESTION: Since donuts are not labeled, a so...   \n...                                                    ...   \n65864    Loved this store.  The ladies working here wer...   \n816883   Ah, Fiume.  If one were to make a quirky-yet-c...   \n5921342  Fast and friendly service! Mr. Wish is located...   \n3537603  Soooo good! Me and my one year old had the fri...   \n2902696  The beers were great and the upstairs patio ma...   \n\n                        date  \n2298056  2018-07-22 07:15:48  \n550287   2018-10-07 23:56:22  \n6039953  2017-08-28 03:03:50  \n1726110  2018-07-23 04:59:45  \n4831869  2019-09-19 12:58:15  \n...                      ...  \n65864    2015-09-24 17:58:09  \n816883   2008-05-29 01:42:01  \n5921342  2019-05-15 19:08:15  \n3537603  2016-10-02 03:09:35  \n2902696  2017-04-22 11:54:17  \n\n[699030 rows x 9 columns]",
      "text/html": "<div>\n<style scoped>\n    .dataframe tbody tr th:only-of-type {\n        vertical-align: middle;\n    }\n\n    .dataframe tbody tr th {\n        vertical-align: top;\n    }\n\n    .dataframe thead th {\n        text-align: right;\n    }\n</style>\n<table border=\"1\" class=\"dataframe\">\n  <thead>\n    <tr style=\"text-align: right;\">\n      <th></th>\n      <th>review_id</th>\n      <th>user_id</th>\n      <th>business_id</th>\n      <th>stars</th>\n      <th>useful</th>\n      <th>funny</th>\n      <th>cool</th>\n      <th>text</th>\n      <th>date</th>\n    </tr>\n  </thead>\n  <tbody>\n    <tr>\n      <th>2298056</th>\n      <td>xLDinSRx_YbQxhCUdWOCOw</td>\n      <td>xLWYE8JhJagT618Z-nXDqQ</td>\n      <td>T96AnQUJBvhs-4v2pxmhTA</td>\n      <td>1.0</td>\n      <td>1</td>\n      <td>1</td>\n      <td>0</td>\n      <td>My 1 star review goes directly towards the poo...</td>\n      <td>2018-07-22 07:15:48</td>\n    </tr>\n    <tr>\n      <th>550287</th>\n      <td>u0_9yOf6pY-BYNpp1leb_w</td>\n      <td>ZfuA-XSS3O8ZFSZlYFXVdQ</td>\n      <td>sa-OzUFCgU_dydphmYOVOQ</td>\n      <td>1.0</td>\n      <td>1</td>\n      <td>2</td>\n      <td>0</td>\n      <td>When I first arrived at Black Rose, Sharon was...</td>\n      <td>2018-10-07 23:56:22</td>\n    </tr>\n    <tr>\n      <th>6039953</th>\n      <td>Pe2-04BMqjYZWOIeXkohQw</td>\n      <td>nF-xKN2hov5USVuYlOyHyw</td>\n      <td>Jc_HmXZyCivaAQZlwV-d-w</td>\n      <td>1.0</td>\n      <td>1</td>\n      <td>0</td>\n      <td>0</td>\n      <td>I came here simply based on yelp reviews. I sh...</td>\n      <td>2017-08-28 03:03:50</td>\n    </tr>\n    <tr>\n      <th>1726110</th>\n      <td>PD-VyVh4kB3P7PB6SqvA3w</td>\n      <td>o66ZkUQGwg8G_DQyvrH_VA</td>\n      <td>jeiV-bDLPmo0AhBZGF8v4w</td>\n      <td>1.0</td>\n      <td>0</td>\n      <td>0</td>\n      <td>0</td>\n      <td>The food is okay but the service is terrible. ...</td>\n      <td>2018-07-23 04:59:45</td>\n    </tr>\n    <tr>\n      <th>4831869</th>\n      <td>z3taxrYv7AOZGfwj9-AjEw</td>\n      <td>hCJ2uamKVM80CDT1ORPxsQ</td>\n      <td>uvG4QThFmQswhHCnPCGJyw</td>\n      <td>1.0</td>\n      <td>1</td>\n      <td>0</td>\n      <td>0</td>\n      <td>SUGGESTION: Since donuts are not labeled, a so...</td>\n      <td>2019-09-19 12:58:15</td>\n    </tr>\n    <tr>\n      <th>...</th>\n      <td>...</td>\n      <td>...</td>\n      <td>...</td>\n      <td>...</td>\n      <td>...</td>\n      <td>...</td>\n      <td>...</td>\n      <td>...</td>\n      <td>...</td>\n    </tr>\n    <tr>\n      <th>65864</th>\n      <td>swSevTPy53i5HnkLSkJwAg</td>\n      <td>mPoIk8m0Ca7giEfizSrRJg</td>\n      <td>nx8uirgw7LVjak2rultnng</td>\n      <td>5.0</td>\n      <td>0</td>\n      <td>0</td>\n      <td>0</td>\n      <td>Loved this store.  The ladies working here wer...</td>\n      <td>2015-09-24 17:58:09</td>\n    </tr>\n    <tr>\n      <th>816883</th>\n      <td>NOyPH7Bh2LVkUzpnXWyXFA</td>\n      <td>saEUjebfkgXQKzNuD_0Pfg</td>\n      <td>AgcJCv6R9d40ByHZrDJ62A</td>\n      <td>5.0</td>\n      <td>9</td>\n      <td>5</td>\n      <td>9</td>\n      <td>Ah, Fiume.  If one were to make a quirky-yet-c...</td>\n      <td>2008-05-29 01:42:01</td>\n    </tr>\n    <tr>\n      <th>5921342</th>\n      <td>7GUh-PpsK2YkyIPoDE9hWA</td>\n      <td>lPAt2419-7bc3KeMgbqsZA</td>\n      <td>yx32jmqWOQ2ZB3RsRRfRrA</td>\n      <td>5.0</td>\n      <td>3</td>\n      <td>1</td>\n      <td>1</td>\n      <td>Fast and friendly service! Mr. Wish is located...</td>\n      <td>2019-05-15 19:08:15</td>\n    </tr>\n    <tr>\n      <th>3537603</th>\n      <td>Y7qVmUz09JpIy3AVyeG67A</td>\n      <td>8vVwDsoBAKDMBuFU1H4q4w</td>\n      <td>7z16CBc74GhbyqalwZrJUQ</td>\n      <td>5.0</td>\n      <td>1</td>\n      <td>0</td>\n      <td>1</td>\n      <td>Soooo good! Me and my one year old had the fri...</td>\n      <td>2016-10-02 03:09:35</td>\n    </tr>\n    <tr>\n      <th>2902696</th>\n      <td>kayUR8G6syk3wcTjN-xnHA</td>\n      <td>K27z8C9Lw2WzC8A401sUVQ</td>\n      <td>B6-GVRwT6tv8V30tz5jxqw</td>\n      <td>5.0</td>\n      <td>1</td>\n      <td>0</td>\n      <td>1</td>\n      <td>The beers were great and the upstairs patio ma...</td>\n      <td>2017-04-22 11:54:17</td>\n    </tr>\n  </tbody>\n</table>\n<p>699030 rows × 9 columns</p>\n</div>"
     },
     "execution_count": 17,
     "metadata": {},
     "output_type": "execute_result"
    }
   ],
   "source": [
    "sample_df"
   ],
   "metadata": {
    "collapsed": false,
    "ExecuteTime": {
     "start_time": "2023-04-23T14:23:14.874923Z",
     "end_time": "2023-04-23T14:23:14.878758Z"
    }
   }
  },
  {
   "cell_type": "code",
   "execution_count": null,
   "outputs": [],
   "source": [],
   "metadata": {
    "collapsed": false
   }
  }
 ],
 "metadata": {
  "kernelspec": {
   "display_name": "Python 3",
   "language": "python",
   "name": "python3"
  },
  "language_info": {
   "codemirror_mode": {
    "name": "ipython",
    "version": 2
   },
   "file_extension": ".py",
   "mimetype": "text/x-python",
   "name": "python",
   "nbconvert_exporter": "python",
   "pygments_lexer": "ipython2",
   "version": "2.7.6"
  }
 },
 "nbformat": 4,
 "nbformat_minor": 0
}
